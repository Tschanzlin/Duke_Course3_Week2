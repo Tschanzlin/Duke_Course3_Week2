{
 "cells": [
  {
   "cell_type": "markdown",
   "metadata": {},
   "source": [
    "Go through the basics of creating a Python script, and then create a Python file for the script to run it on the terminal. In this practice notebook, you'll create the building blocks for a script that finds large files on the filesytem"
   ]
  },
  {
   "cell_type": "markdown",
   "metadata": {},
   "source": [
    "## Get the logic right \n",
    "Start by defining some of the requirements of the script. In this case, we need to:\n",
    "- _Walk_ the filesystem looking at files, directories and sub-directories\n",
    "- Capture file information: is it a file? a directory? what size? what path?\n",
    "- Store that information in a suitable data structure\n",
    "- Report the sorted data what are the largest files by looking at the data structure"
   ]
  },
  {
   "cell_type": "code",
   "execution_count": 2,
   "metadata": {},
   "outputs": [
    {
     "name": "stdout",
     "output_type": "stream",
     "text": [
      "File found: exercise.ipynb\n",
      "File found: large-files.ipynb\n",
      "File found: README.md\n",
      "File found: COMMIT_EDITMSG\n",
      "File found: config\n",
      "File found: description\n",
      "File found: HEAD\n",
      "File found: index\n",
      "File found: packed-refs\n",
      "File found: applypatch-msg.sample\n",
      "File found: commit-msg.sample\n",
      "File found: fsmonitor-watchman.sample\n",
      "File found: post-update.sample\n",
      "File found: pre-applypatch.sample\n",
      "File found: pre-commit.sample\n",
      "File found: pre-merge-commit.sample\n",
      "File found: pre-push.sample\n",
      "File found: pre-rebase.sample\n",
      "File found: pre-receive.sample\n",
      "File found: prepare-commit-msg.sample\n",
      "File found: update.sample\n",
      "File found: exclude\n",
      "File found: HEAD\n",
      "File found: main\n",
      "File found: HEAD\n",
      "File found: main\n",
      "File found: 559a080b5b52c9570bb07d937a56ffc8636d09\n",
      "File found: 6e65b0cd95355100f1825baf5281bf43e645fb\n",
      "File found: ca46bbe3e099ece07cb45a12150034d3f814ef\n",
      "File found: ff4b7885550548caed283aee4499f40576fa8a\n",
      "File found: a5480406e468eefaffd72a48735c0f8d1e1ef0\n",
      "File found: d7ac5ef872ab345f18f50174f042f5a6553e60\n",
      "File found: 7c90a44063bd62f6daa2bdb3606fe5e48468fe\n",
      "File found: 126ce4f73ddbafcc17f4b25bd4fa296bfa9298\n",
      "File found: 2593fecc9e2c5ea7fabc0b47c780352dfa9d09\n",
      "File found: b3347bc956d61e7d0e357b69ac2efcc51d1093\n",
      "File found: 236b9be6f273583351160dc7d519b39208d242\n",
      "File found: 8fca65e9eaf98c9f883ecdbb7502d81c938330\n",
      "File found: main\n",
      "File found: HEAD\n",
      "File found: main\n",
      "File found: large-files-checkpoint.ipynb\n",
      "File found: README.md\n",
      "File found: COMMIT_EDITMSG\n",
      "File found: config\n",
      "File found: description\n",
      "File found: HEAD\n",
      "File found: index\n",
      "File found: packed-refs\n",
      "File found: applypatch-msg.sample\n",
      "File found: commit-msg.sample\n",
      "File found: fsmonitor-watchman.sample\n",
      "File found: post-update.sample\n",
      "File found: pre-applypatch.sample\n",
      "File found: pre-commit.sample\n",
      "File found: pre-merge-commit.sample\n",
      "File found: pre-push.sample\n",
      "File found: pre-rebase.sample\n",
      "File found: pre-receive.sample\n",
      "File found: prepare-commit-msg.sample\n",
      "File found: update.sample\n",
      "File found: exclude\n",
      "File found: HEAD\n",
      "File found: main\n",
      "File found: HEAD\n",
      "File found: main\n",
      "File found: 0163274cff6255ad02756a488cb0bb5509e5d7\n",
      "File found: f16573d64fb8f88d4ec5cb53e2f4c389201727\n",
      "File found: a47b5230542668025529e6b29e3020aec77264\n",
      "File found: pack-19390b71240bf9ac2230f1c258e3b93a091da5ed.idx\n",
      "File found: pack-19390b71240bf9ac2230f1c258e3b93a091da5ed.pack\n",
      "File found: main\n",
      "File found: HEAD\n",
      "File found: main\n"
     ]
    }
   ],
   "source": [
    "# The os module is perfect for filesystem operations like \"walking\" throught directories and files\n",
    "# Although there are many ways of achieving the same effect, a good way to loop over the filesystem is using `os.walk()`\n",
    "import os\n",
    "for root, directories, files in os.walk('.'):\n",
    "    for _file in files:\n",
    "        print(f\"File found: {_file}\")\n"
   ]
  },
  {
   "cell_type": "code",
   "execution_count": 3,
   "metadata": {},
   "outputs": [
    {
     "name": "stdout",
     "output_type": "stream",
     "text": [
      "File found: .\\exercise.ipynb\n",
      "File found: .\\large-files.ipynb\n",
      "File found: .\\README.md\n",
      "File found: .\\.git\\COMMIT_EDITMSG\n",
      "File found: .\\.git\\config\n",
      "File found: .\\.git\\description\n",
      "File found: .\\.git\\HEAD\n",
      "File found: .\\.git\\index\n",
      "File found: .\\.git\\packed-refs\n",
      "File found: .\\.git\\hooks\\applypatch-msg.sample\n",
      "File found: .\\.git\\hooks\\commit-msg.sample\n",
      "File found: .\\.git\\hooks\\fsmonitor-watchman.sample\n",
      "File found: .\\.git\\hooks\\post-update.sample\n",
      "File found: .\\.git\\hooks\\pre-applypatch.sample\n",
      "File found: .\\.git\\hooks\\pre-commit.sample\n",
      "File found: .\\.git\\hooks\\pre-merge-commit.sample\n",
      "File found: .\\.git\\hooks\\pre-push.sample\n",
      "File found: .\\.git\\hooks\\pre-rebase.sample\n",
      "File found: .\\.git\\hooks\\pre-receive.sample\n",
      "File found: .\\.git\\hooks\\prepare-commit-msg.sample\n",
      "File found: .\\.git\\hooks\\update.sample\n",
      "File found: .\\.git\\info\\exclude\n",
      "File found: .\\.git\\logs\\HEAD\n",
      "File found: .\\.git\\logs\\refs\\heads\\main\n",
      "File found: .\\.git\\logs\\refs\\remotes\\origin\\HEAD\n",
      "File found: .\\.git\\logs\\refs\\remotes\\origin\\main\n",
      "File found: .\\.git\\objects\\14\\559a080b5b52c9570bb07d937a56ffc8636d09\n",
      "File found: .\\.git\\objects\\24\\6e65b0cd95355100f1825baf5281bf43e645fb\n",
      "File found: .\\.git\\objects\\5c\\ca46bbe3e099ece07cb45a12150034d3f814ef\n",
      "File found: .\\.git\\objects\\61\\ff4b7885550548caed283aee4499f40576fa8a\n",
      "File found: .\\.git\\objects\\6c\\a5480406e468eefaffd72a48735c0f8d1e1ef0\n",
      "File found: .\\.git\\objects\\74\\d7ac5ef872ab345f18f50174f042f5a6553e60\n",
      "File found: .\\.git\\objects\\9c\\7c90a44063bd62f6daa2bdb3606fe5e48468fe\n",
      "File found: .\\.git\\objects\\ab\\126ce4f73ddbafcc17f4b25bd4fa296bfa9298\n",
      "File found: .\\.git\\objects\\b5\\2593fecc9e2c5ea7fabc0b47c780352dfa9d09\n",
      "File found: .\\.git\\objects\\b5\\b3347bc956d61e7d0e357b69ac2efcc51d1093\n",
      "File found: .\\.git\\objects\\bc\\236b9be6f273583351160dc7d519b39208d242\n",
      "File found: .\\.git\\objects\\f8\\8fca65e9eaf98c9f883ecdbb7502d81c938330\n",
      "File found: .\\.git\\refs\\heads\\main\n",
      "File found: .\\.git\\refs\\remotes\\origin\\HEAD\n",
      "File found: .\\.git\\refs\\remotes\\origin\\main\n",
      "File found: .\\.ipynb_checkpoints\\large-files-checkpoint.ipynb\n",
      "File found: .\\New_Repo_With_SSH\\README.md\n",
      "File found: .\\New_Repo_With_SSH\\.git\\COMMIT_EDITMSG\n",
      "File found: .\\New_Repo_With_SSH\\.git\\config\n",
      "File found: .\\New_Repo_With_SSH\\.git\\description\n",
      "File found: .\\New_Repo_With_SSH\\.git\\HEAD\n",
      "File found: .\\New_Repo_With_SSH\\.git\\index\n",
      "File found: .\\New_Repo_With_SSH\\.git\\packed-refs\n",
      "File found: .\\New_Repo_With_SSH\\.git\\hooks\\applypatch-msg.sample\n",
      "File found: .\\New_Repo_With_SSH\\.git\\hooks\\commit-msg.sample\n",
      "File found: .\\New_Repo_With_SSH\\.git\\hooks\\fsmonitor-watchman.sample\n",
      "File found: .\\New_Repo_With_SSH\\.git\\hooks\\post-update.sample\n",
      "File found: .\\New_Repo_With_SSH\\.git\\hooks\\pre-applypatch.sample\n",
      "File found: .\\New_Repo_With_SSH\\.git\\hooks\\pre-commit.sample\n",
      "File found: .\\New_Repo_With_SSH\\.git\\hooks\\pre-merge-commit.sample\n",
      "File found: .\\New_Repo_With_SSH\\.git\\hooks\\pre-push.sample\n",
      "File found: .\\New_Repo_With_SSH\\.git\\hooks\\pre-rebase.sample\n",
      "File found: .\\New_Repo_With_SSH\\.git\\hooks\\pre-receive.sample\n",
      "File found: .\\New_Repo_With_SSH\\.git\\hooks\\prepare-commit-msg.sample\n",
      "File found: .\\New_Repo_With_SSH\\.git\\hooks\\update.sample\n",
      "File found: .\\New_Repo_With_SSH\\.git\\info\\exclude\n",
      "File found: .\\New_Repo_With_SSH\\.git\\logs\\HEAD\n",
      "File found: .\\New_Repo_With_SSH\\.git\\logs\\refs\\heads\\main\n",
      "File found: .\\New_Repo_With_SSH\\.git\\logs\\refs\\remotes\\origin\\HEAD\n",
      "File found: .\\New_Repo_With_SSH\\.git\\logs\\refs\\remotes\\origin\\main\n",
      "File found: .\\New_Repo_With_SSH\\.git\\objects\\0e\\0163274cff6255ad02756a488cb0bb5509e5d7\n",
      "File found: .\\New_Repo_With_SSH\\.git\\objects\\19\\f16573d64fb8f88d4ec5cb53e2f4c389201727\n",
      "File found: .\\New_Repo_With_SSH\\.git\\objects\\33\\a47b5230542668025529e6b29e3020aec77264\n",
      "File found: .\\New_Repo_With_SSH\\.git\\objects\\pack\\pack-19390b71240bf9ac2230f1c258e3b93a091da5ed.idx\n",
      "File found: .\\New_Repo_With_SSH\\.git\\objects\\pack\\pack-19390b71240bf9ac2230f1c258e3b93a091da5ed.pack\n",
      "File found: .\\New_Repo_With_SSH\\.git\\refs\\heads\\main\n",
      "File found: .\\New_Repo_With_SSH\\.git\\refs\\remotes\\origin\\HEAD\n",
      "File found: .\\New_Repo_With_SSH\\.git\\refs\\remotes\\origin\\main\n"
     ]
    }
   ],
   "source": [
    "# Update the loop so that it shows the absolute path of a file ignoring directories which we aren't going to track\n",
    "for root, directories, files in os.walk('.'):\n",
    "    for _file in files:\n",
    "        full_path = os.path.join(root, _file)\n",
    "        print(f\"File found: {full_path}\")\n"
   ]
  },
  {
   "cell_type": "markdown",
   "metadata": {},
   "source": [
    "So now we have a few objectives completed:\n",
    "- Files are detected\n",
    "- Full paths are being collected\n",
    "\n",
    "Next, we need to find size information. Python uses bytes by default for size, so in addition to capturing the size, we'll need to find a way to change bytes to megabytes or gigabytes to make it easier to read"
   ]
  },
  {
   "cell_type": "code",
   "execution_count": 7,
   "metadata": {},
   "outputs": [
    {
     "name": "stdout",
     "output_type": "stream",
     "text": [
      "Size: 146403b - File: .\\exercise.ipynb\n",
      "Size: 26174b - File: .\\large-files.ipynb\n",
      "Size: 228b - File: .\\README.md\n",
      "Size: 14b - File: .\\.git\\COMMIT_EDITMSG\n",
      "Size: 303b - File: .\\.git\\config\n",
      "Size: 73b - File: .\\.git\\description\n",
      "Size: 21b - File: .\\.git\\HEAD\n",
      "Size: 297b - File: .\\.git\\index\n",
      "Size: 112b - File: .\\.git\\packed-refs\n",
      "Size: 478b - File: .\\.git\\hooks\\applypatch-msg.sample\n",
      "Size: 896b - File: .\\.git\\hooks\\commit-msg.sample\n",
      "Size: 4655b - File: .\\.git\\hooks\\fsmonitor-watchman.sample\n",
      "Size: 189b - File: .\\.git\\hooks\\post-update.sample\n",
      "Size: 424b - File: .\\.git\\hooks\\pre-applypatch.sample\n",
      "Size: 1643b - File: .\\.git\\hooks\\pre-commit.sample\n",
      "Size: 416b - File: .\\.git\\hooks\\pre-merge-commit.sample\n",
      "Size: 1348b - File: .\\.git\\hooks\\pre-push.sample\n",
      "Size: 4898b - File: .\\.git\\hooks\\pre-rebase.sample\n",
      "Size: 544b - File: .\\.git\\hooks\\pre-receive.sample\n",
      "Size: 1492b - File: .\\.git\\hooks\\prepare-commit-msg.sample\n",
      "Size: 3635b - File: .\\.git\\hooks\\update.sample\n",
      "Size: 240b - File: .\\.git\\info\\exclude\n",
      "Size: 700b - File: .\\.git\\logs\\HEAD\n",
      "Size: 700b - File: .\\.git\\logs\\refs\\heads\\main\n",
      "Size: 205b - File: .\\.git\\logs\\refs\\remotes\\origin\\HEAD\n",
      "Size: 465b - File: .\\.git\\logs\\refs\\remotes\\origin\\main\n",
      "Size: 54b - File: .\\.git\\objects\\14\\559a080b5b52c9570bb07d937a56ffc8636d09\n",
      "Size: 173b - File: .\\.git\\objects\\24\\6e65b0cd95355100f1825baf5281bf43e645fb\n",
      "Size: 138b - File: .\\.git\\objects\\5c\\ca46bbe3e099ece07cb45a12150034d3f814ef\n",
      "Size: 170b - File: .\\.git\\objects\\61\\ff4b7885550548caed283aee4499f40576fa8a\n",
      "Size: 61b - File: .\\.git\\objects\\6c\\a5480406e468eefaffd72a48735c0f8d1e1ef0\n",
      "Size: 92b - File: .\\.git\\objects\\74\\d7ac5ef872ab345f18f50174f042f5a6553e60\n",
      "Size: 155b - File: .\\.git\\objects\\9c\\7c90a44063bd62f6daa2bdb3606fe5e48468fe\n",
      "Size: 29009b - File: .\\.git\\objects\\ab\\126ce4f73ddbafcc17f4b25bd4fa296bfa9298\n",
      "Size: 186b - File: .\\.git\\objects\\b5\\2593fecc9e2c5ea7fabc0b47c780352dfa9d09\n",
      "Size: 138b - File: .\\.git\\objects\\b5\\b3347bc956d61e7d0e357b69ac2efcc51d1093\n",
      "Size: 525b - File: .\\.git\\objects\\bc\\236b9be6f273583351160dc7d519b39208d242\n",
      "Size: 164b - File: .\\.git\\objects\\f8\\8fca65e9eaf98c9f883ecdbb7502d81c938330\n",
      "Size: 41b - File: .\\.git\\refs\\heads\\main\n",
      "Size: 30b - File: .\\.git\\refs\\remotes\\origin\\HEAD\n",
      "Size: 41b - File: .\\.git\\refs\\remotes\\origin\\main\n",
      "Size: 5343b - File: .\\.ipynb_checkpoints\\large-files-checkpoint.ipynb\n",
      "Size: 100b - File: .\\New_Repo_With_SSH\\README.md\n",
      "Size: 35b - File: .\\New_Repo_With_SSH\\.git\\COMMIT_EDITMSG\n",
      "Size: 306b - File: .\\New_Repo_With_SSH\\.git\\config\n",
      "Size: 73b - File: .\\New_Repo_With_SSH\\.git\\description\n",
      "Size: 21b - File: .\\New_Repo_With_SSH\\.git\\HEAD\n",
      "Size: 137b - File: .\\New_Repo_With_SSH\\.git\\index\n",
      "Size: 112b - File: .\\New_Repo_With_SSH\\.git\\packed-refs\n",
      "Size: 478b - File: .\\New_Repo_With_SSH\\.git\\hooks\\applypatch-msg.sample\n",
      "Size: 896b - File: .\\New_Repo_With_SSH\\.git\\hooks\\commit-msg.sample\n",
      "Size: 4655b - File: .\\New_Repo_With_SSH\\.git\\hooks\\fsmonitor-watchman.sample\n",
      "Size: 189b - File: .\\New_Repo_With_SSH\\.git\\hooks\\post-update.sample\n",
      "Size: 424b - File: .\\New_Repo_With_SSH\\.git\\hooks\\pre-applypatch.sample\n",
      "Size: 1643b - File: .\\New_Repo_With_SSH\\.git\\hooks\\pre-commit.sample\n",
      "Size: 416b - File: .\\New_Repo_With_SSH\\.git\\hooks\\pre-merge-commit.sample\n",
      "Size: 1348b - File: .\\New_Repo_With_SSH\\.git\\hooks\\pre-push.sample\n",
      "Size: 4898b - File: .\\New_Repo_With_SSH\\.git\\hooks\\pre-rebase.sample\n",
      "Size: 544b - File: .\\New_Repo_With_SSH\\.git\\hooks\\pre-receive.sample\n",
      "Size: 1492b - File: .\\New_Repo_With_SSH\\.git\\hooks\\prepare-commit-msg.sample\n",
      "Size: 3635b - File: .\\New_Repo_With_SSH\\.git\\hooks\\update.sample\n",
      "Size: 240b - File: .\\New_Repo_With_SSH\\.git\\info\\exclude\n",
      "Size: 383b - File: .\\New_Repo_With_SSH\\.git\\logs\\HEAD\n",
      "Size: 383b - File: .\\New_Repo_With_SSH\\.git\\logs\\refs\\heads\\main\n",
      "Size: 200b - File: .\\New_Repo_With_SSH\\.git\\logs\\refs\\remotes\\origin\\HEAD\n",
      "Size: 155b - File: .\\New_Repo_With_SSH\\.git\\logs\\refs\\remotes\\origin\\main\n",
      "Size: 53b - File: .\\New_Repo_With_SSH\\.git\\objects\\0e\\0163274cff6255ad02756a488cb0bb5509e5d7\n",
      "Size: 181b - File: .\\New_Repo_With_SSH\\.git\\objects\\19\\f16573d64fb8f88d4ec5cb53e2f4c389201727\n",
      "Size: 90b - File: .\\New_Repo_With_SSH\\.git\\objects\\33\\a47b5230542668025529e6b29e3020aec77264\n",
      "Size: 1240b - File: .\\New_Repo_With_SSH\\.git\\objects\\pack\\pack-19390b71240bf9ac2230f1c258e3b93a091da5ed.idx\n",
      "Size: 1300b - File: .\\New_Repo_With_SSH\\.git\\objects\\pack\\pack-19390b71240bf9ac2230f1c258e3b93a091da5ed.pack\n",
      "Size: 41b - File: .\\New_Repo_With_SSH\\.git\\refs\\heads\\main\n",
      "Size: 30b - File: .\\New_Repo_With_SSH\\.git\\refs\\remotes\\origin\\HEAD\n",
      "Size: 41b - File: .\\New_Repo_With_SSH\\.git\\refs\\remotes\\origin\\main\n"
     ]
    }
   ],
   "source": [
    "# Update the loop to include the file size\n",
    "for root, directories, files in os.walk('.'):\n",
    "    for _file in files:\n",
    "        full_path = os.path.join(root, _file)\n",
    "        size = os.path.getsize(full_path)\n",
    "        print(f\"Size: {size}b - File: {full_path}\")"
   ]
  },
  {
   "cell_type": "code",
   "execution_count": 8,
   "metadata": {},
   "outputs": [
    {
     "name": "stdout",
     "output_type": "stream",
     "text": [
      "{'.\\\\exercise.ipynb': 146403, '.\\\\large-files.ipynb': 26174, '.\\\\README.md': 228, '.\\\\.git\\\\COMMIT_EDITMSG': 14, '.\\\\.git\\\\config': 303, '.\\\\.git\\\\description': 73, '.\\\\.git\\\\HEAD': 21, '.\\\\.git\\\\index': 297, '.\\\\.git\\\\packed-refs': 112, '.\\\\.git\\\\hooks\\\\applypatch-msg.sample': 478, '.\\\\.git\\\\hooks\\\\commit-msg.sample': 896, '.\\\\.git\\\\hooks\\\\fsmonitor-watchman.sample': 4655, '.\\\\.git\\\\hooks\\\\post-update.sample': 189, '.\\\\.git\\\\hooks\\\\pre-applypatch.sample': 424, '.\\\\.git\\\\hooks\\\\pre-commit.sample': 1643, '.\\\\.git\\\\hooks\\\\pre-merge-commit.sample': 416, '.\\\\.git\\\\hooks\\\\pre-push.sample': 1348, '.\\\\.git\\\\hooks\\\\pre-rebase.sample': 4898, '.\\\\.git\\\\hooks\\\\pre-receive.sample': 544, '.\\\\.git\\\\hooks\\\\prepare-commit-msg.sample': 1492, '.\\\\.git\\\\hooks\\\\update.sample': 3635, '.\\\\.git\\\\info\\\\exclude': 240, '.\\\\.git\\\\logs\\\\HEAD': 700, '.\\\\.git\\\\logs\\\\refs\\\\heads\\\\main': 700, '.\\\\.git\\\\logs\\\\refs\\\\remotes\\\\origin\\\\HEAD': 205, '.\\\\.git\\\\logs\\\\refs\\\\remotes\\\\origin\\\\main': 465, '.\\\\.git\\\\objects\\\\14\\\\559a080b5b52c9570bb07d937a56ffc8636d09': 54, '.\\\\.git\\\\objects\\\\24\\\\6e65b0cd95355100f1825baf5281bf43e645fb': 173, '.\\\\.git\\\\objects\\\\5c\\\\ca46bbe3e099ece07cb45a12150034d3f814ef': 138, '.\\\\.git\\\\objects\\\\61\\\\ff4b7885550548caed283aee4499f40576fa8a': 170, '.\\\\.git\\\\objects\\\\6c\\\\a5480406e468eefaffd72a48735c0f8d1e1ef0': 61, '.\\\\.git\\\\objects\\\\74\\\\d7ac5ef872ab345f18f50174f042f5a6553e60': 92, '.\\\\.git\\\\objects\\\\9c\\\\7c90a44063bd62f6daa2bdb3606fe5e48468fe': 155, '.\\\\.git\\\\objects\\\\ab\\\\126ce4f73ddbafcc17f4b25bd4fa296bfa9298': 29009, '.\\\\.git\\\\objects\\\\b5\\\\2593fecc9e2c5ea7fabc0b47c780352dfa9d09': 186, '.\\\\.git\\\\objects\\\\b5\\\\b3347bc956d61e7d0e357b69ac2efcc51d1093': 138, '.\\\\.git\\\\objects\\\\bc\\\\236b9be6f273583351160dc7d519b39208d242': 525, '.\\\\.git\\\\objects\\\\f8\\\\8fca65e9eaf98c9f883ecdbb7502d81c938330': 164, '.\\\\.git\\\\refs\\\\heads\\\\main': 41, '.\\\\.git\\\\refs\\\\remotes\\\\origin\\\\HEAD': 30, '.\\\\.git\\\\refs\\\\remotes\\\\origin\\\\main': 41, '.\\\\.ipynb_checkpoints\\\\large-files-checkpoint.ipynb': 5343, '.\\\\New_Repo_With_SSH\\\\README.md': 100, '.\\\\New_Repo_With_SSH\\\\.git\\\\COMMIT_EDITMSG': 35, '.\\\\New_Repo_With_SSH\\\\.git\\\\config': 306, '.\\\\New_Repo_With_SSH\\\\.git\\\\description': 73, '.\\\\New_Repo_With_SSH\\\\.git\\\\HEAD': 21, '.\\\\New_Repo_With_SSH\\\\.git\\\\index': 137, '.\\\\New_Repo_With_SSH\\\\.git\\\\packed-refs': 112, '.\\\\New_Repo_With_SSH\\\\.git\\\\hooks\\\\applypatch-msg.sample': 478, '.\\\\New_Repo_With_SSH\\\\.git\\\\hooks\\\\commit-msg.sample': 896, '.\\\\New_Repo_With_SSH\\\\.git\\\\hooks\\\\fsmonitor-watchman.sample': 4655, '.\\\\New_Repo_With_SSH\\\\.git\\\\hooks\\\\post-update.sample': 189, '.\\\\New_Repo_With_SSH\\\\.git\\\\hooks\\\\pre-applypatch.sample': 424, '.\\\\New_Repo_With_SSH\\\\.git\\\\hooks\\\\pre-commit.sample': 1643, '.\\\\New_Repo_With_SSH\\\\.git\\\\hooks\\\\pre-merge-commit.sample': 416, '.\\\\New_Repo_With_SSH\\\\.git\\\\hooks\\\\pre-push.sample': 1348, '.\\\\New_Repo_With_SSH\\\\.git\\\\hooks\\\\pre-rebase.sample': 4898, '.\\\\New_Repo_With_SSH\\\\.git\\\\hooks\\\\pre-receive.sample': 544, '.\\\\New_Repo_With_SSH\\\\.git\\\\hooks\\\\prepare-commit-msg.sample': 1492, '.\\\\New_Repo_With_SSH\\\\.git\\\\hooks\\\\update.sample': 3635, '.\\\\New_Repo_With_SSH\\\\.git\\\\info\\\\exclude': 240, '.\\\\New_Repo_With_SSH\\\\.git\\\\logs\\\\HEAD': 383, '.\\\\New_Repo_With_SSH\\\\.git\\\\logs\\\\refs\\\\heads\\\\main': 383, '.\\\\New_Repo_With_SSH\\\\.git\\\\logs\\\\refs\\\\remotes\\\\origin\\\\HEAD': 200, '.\\\\New_Repo_With_SSH\\\\.git\\\\logs\\\\refs\\\\remotes\\\\origin\\\\main': 155, '.\\\\New_Repo_With_SSH\\\\.git\\\\objects\\\\0e\\\\0163274cff6255ad02756a488cb0bb5509e5d7': 53, '.\\\\New_Repo_With_SSH\\\\.git\\\\objects\\\\19\\\\f16573d64fb8f88d4ec5cb53e2f4c389201727': 181, '.\\\\New_Repo_With_SSH\\\\.git\\\\objects\\\\33\\\\a47b5230542668025529e6b29e3020aec77264': 90, '.\\\\New_Repo_With_SSH\\\\.git\\\\objects\\\\pack\\\\pack-19390b71240bf9ac2230f1c258e3b93a091da5ed.idx': 1240, '.\\\\New_Repo_With_SSH\\\\.git\\\\objects\\\\pack\\\\pack-19390b71240bf9ac2230f1c258e3b93a091da5ed.pack': 1300, '.\\\\New_Repo_With_SSH\\\\.git\\\\refs\\\\heads\\\\main': 41, '.\\\\New_Repo_With_SSH\\\\.git\\\\refs\\\\remotes\\\\origin\\\\HEAD': 30, '.\\\\New_Repo_With_SSH\\\\.git\\\\refs\\\\remotes\\\\origin\\\\main': 41}\n"
     ]
    }
   ],
   "source": [
    "# Persist the data into a dictionary. Since file paths are unique you can use those as dictionary keys\n",
    "file_metadata = {}\n",
    "for root, directories, files in os.walk('.'):\n",
    "    for _file in files:\n",
    "        full_path = os.path.join(root, _file)\n",
    "        size = os.path.getsize(full_path)\n",
    "        file_metadata[full_path] = size\n",
    "print(file_metadata)"
   ]
  },
  {
   "cell_type": "markdown",
   "metadata": {},
   "source": [
    "**Exercise:** Now that the metadata is captured and stored in a suitable data structure like a dictionary, report back the results with only the four largest files. Try using other quantities to report on, like the 10 largest files instead of 4."
   ]
  },
  {
   "cell_type": "code",
   "execution_count": 19,
   "metadata": {},
   "outputs": [
    {
     "name": "stdout",
     "output_type": "stream",
     "text": [
      "Size: 146403 Path: .\\exercise.ipynb\n",
      "Size: 29009 Path: .\\.git\\objects\\ab\\126ce4f73ddbafcc17f4b25bd4fa296bfa9298\n",
      "Size: 26174 Path: .\\large-files.ipynb\n",
      "Size: 5343 Path: .\\.ipynb_checkpoints\\large-files-checkpoint.ipynb\n",
      "Size: 4898 Path: .\\.git\\hooks\\pre-rebase.sample\n"
     ]
    }
   ],
   "source": [
    "items_shown = 0\n",
    "\n",
    "for path, size in sorted(file_metadata.items(), key=lambda x:x[1], reverse=True):\n",
    "    if items_shown > 4:\n",
    "        break\n",
    "    print(f\"Size: {size} Path: {path}\")\n",
    "    items_shown += 1\n"
   ]
  },
  {
   "cell_type": "markdown",
   "metadata": {},
   "source": [
    "There is a lot happening in the previous cell. `sorted()` is a built-in function that can sort iterables like Python dictionaries. In this case, we need to sort by the _value_. This is done using the `key` parameter which accepts a `lambda`.\n",
    "`lambda` allows to represent a function in a single line without defining it. That `lambda` expression is the same as defining a function like:\n",
    "\n",
    "```python\n",
    "def by_value(x):\n",
    "    return x[1]\n",
    "```\n",
    "\n",
    "`x` represents two items, the path and the size. The function is returning only the size because that is what we want to sort with. Try changing the `lambda` expression to use `x[0]` instead and see what happens.\n",
    "\n",
    "**Exercise:** Try using a function instead of a `lambda` function and achieve the same result"
   ]
  }
 ],
 "metadata": {
  "interpreter": {
   "hash": "904aaa8d64bef68f2ffda03272599bba12aa237240eb8594526423b3c4f1b9a0"
  },
  "kernelspec": {
   "display_name": "Python 3",
   "language": "python",
   "name": "python3"
  },
  "language_info": {
   "codemirror_mode": {
    "name": "ipython",
    "version": 3
   },
   "file_extension": ".py",
   "mimetype": "text/x-python",
   "name": "python",
   "nbconvert_exporter": "python",
   "pygments_lexer": "ipython3",
   "version": "3.6.10"
  }
 },
 "nbformat": 4,
 "nbformat_minor": 2
}
